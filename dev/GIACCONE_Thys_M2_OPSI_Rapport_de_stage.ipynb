{
 "cells": [
  {
   "cell_type": "markdown",
   "metadata": {},
   "source": [
    "<h1><center>Exploration  \n",
    "du codage prédictif  \n",
    "grâce au jeu vidéo</center></h1>\n",
    "\n",
    "___\n",
    "\n",
    "<center>**Encadrants : Bruno Wicker, Laurent Perrinet**</center>\n",
    "<center>*Laboratoire de Neurosciences Cognitives, Equipe ACDC, UMR 7291 CNRS</center>\n",
    "<center>3, place Victor-Hugo 13331 - Marseille Cedex 3*</center>\n",
    "<center>*Ecole Centrale Marseille, Technopôle de Château-Gombert</center>\n",
    "<center>38, rue Frédéric Joliot Curie 13451 - Marseille Cedex 20*</center>\n",
    "\n",
    "___\n",
    "\n",
    "# 1. Introduction\n",
    "* Contexte : développement/prédiction\n",
    "* importance du traitement du signal\n",
    "* résumé des résultats attendus et de l'implication de ces résultats\n",
    "\n",
    "# 2. Méthodes\n",
    "* Pygame\n",
    "* TheEyeTribe\n",
    "* analyse du mouvement des yeux = global\n",
    "    * différents comportements\n",
    "    * on isole les sacades\n",
    "\n",
    "# 3. Résultats\n",
    "* Résultats comportementaux => valide\n",
    "* évolution des latences de 1ère saccade après le rebond\n",
    "* synthèse des données en isolant les valeurs p\n",
    "\n",
    "# 4. Discussion\n",
    "* Résumé des résultats obtenus\n",
    "    * jeu vidéo -> psycho\n",
    "    * analyse robuste\n",
    "    * marqueur psycho (latence) lié à la prédictabilité\n",
    "* limites\n",
    "    * variabilité des résulats du mouvement des yeux -> occlusion ?\n",
    "    * temps d'acquisition\n",
    "    * cadre théorique pour manipuler la valeur de prédictabilité\n",
    "* Ouvertures\n",
    "    * ?\n",
    "    * briques sociales"
   ]
  }
 ],
 "metadata": {
  "kernelspec": {
   "display_name": "Python 3",
   "language": "python",
   "name": "python3"
  },
  "language_info": {
   "codemirror_mode": {
    "name": "ipython",
    "version": 3
   },
   "file_extension": ".py",
   "mimetype": "text/x-python",
   "name": "python",
   "nbconvert_exporter": "python",
   "pygments_lexer": "ipython3",
   "version": "3.6.1"
  }
 },
 "nbformat": 4,
 "nbformat_minor": 2
}
